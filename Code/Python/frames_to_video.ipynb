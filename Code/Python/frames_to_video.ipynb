{
 "cells": [
  {
   "cell_type": "code",
   "execution_count": 1,
   "metadata": {},
   "outputs": [],
   "source": [
    "import cv2\n",
    "import os"
   ]
  },
  {
   "cell_type": "code",
   "execution_count": 2,
   "metadata": {},
   "outputs": [
    {
     "name": "stdout",
     "output_type": "stream",
     "text": [
      "Video created successfully: /Volumes/TOSHIBA_EXT/Phenotype_features_collective/Data/ExtractedFrames/CB4856/1.1_3_cb4856_oo_Set0_Pos0_Ch3_14012018_114743/output_video.mp4\n"
     ]
    }
   ],
   "source": [
    "import os\n",
    "import cv2\n",
    "\n",
    "def create_video_from_frames(frame_folder, output_video_file, fps=30):\n",
    "    # Check if the folder exists\n",
    "    if not os.path.exists(frame_folder):\n",
    "        raise FileNotFoundError(f\"The specified folder '{frame_folder}' does not exist.\")\n",
    "\n",
    "    # Define allowed image extensions\n",
    "    allowed_extensions = {'.jpg', '.jpeg', '.png', '.bmp', '.tif', '.tiff'}\n",
    "\n",
    "    # Get all image file names in the folder, excluding hidden macOS files\n",
    "    files = [f for f in os.listdir(frame_folder) if (os.path.splitext(f)[1].lower() in allowed_extensions) and not f.startswith('._')]\n",
    "    files.sort()  # Sort the files to maintain the order\n",
    "\n",
    "    # Ensure there are image files in the folder\n",
    "    if not files:\n",
    "        raise ValueError(\"No image files found in the specified folder.\")\n",
    "\n",
    "    # Read the first frame to determine the size and color depth\n",
    "    first_frame_path = os.path.join(frame_folder, files[0])\n",
    "    first_frame = cv2.imread(first_frame_path)\n",
    "\n",
    "    if first_frame is None:\n",
    "        raise ValueError(f\"Unable to read the first frame from file '{first_frame_path}'.\")\n",
    "\n",
    "    height, width, layers = first_frame.shape\n",
    "\n",
    "    # Video writer object\n",
    "    video = cv2.VideoWriter(output_video_file, cv2.VideoWriter_fourcc(*'mp4v'), fps, (width, height))\n",
    "\n",
    "    # Add frames to the video\n",
    "    for file in files:\n",
    "        frame_path = os.path.join(frame_folder, file)\n",
    "        frame = cv2.imread(frame_path)\n",
    "        if frame is not None:\n",
    "            video.write(frame)\n",
    "\n",
    "    # Release the video writer object\n",
    "    video.release()\n",
    "    print(f\"Video created successfully: {output_video_file}\")\n",
    "\n",
    "# Example usage\n",
    "frame_folder = '/Volumes/TOSHIBA_EXT/Phenotype_features_collective/Data/ExtractedFrames/CB4856/1.1_3_cb4856_oo_Set0_Pos0_Ch3_14012018_114743'  # Update this path to your frames directory\n",
    "output_video_file = '/Volumes/TOSHIBA_EXT/Phenotype_features_collective/Data/ExtractedFrames/CB4856/1.1_3_cb4856_oo_Set0_Pos0_Ch3_14012018_114743/output_video.mp4'\n",
    "create_video_from_frames(frame_folder, output_video_file)\n"
   ]
  },
  {
   "cell_type": "code",
   "execution_count": null,
   "metadata": {},
   "outputs": [],
   "source": []
  }
 ],
 "metadata": {
  "kernelspec": {
   "display_name": "collectiveBehaviorNematodes",
   "language": "python",
   "name": "python3"
  },
  "language_info": {
   "codemirror_mode": {
    "name": "ipython",
    "version": 3
   },
   "file_extension": ".py",
   "mimetype": "text/x-python",
   "name": "python",
   "nbconvert_exporter": "python",
   "pygments_lexer": "ipython3",
   "version": "3.8.18"
  }
 },
 "nbformat": 4,
 "nbformat_minor": 2
}
