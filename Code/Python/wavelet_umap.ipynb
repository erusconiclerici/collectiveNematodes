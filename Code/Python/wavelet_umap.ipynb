{
 "cells": [
  {
   "cell_type": "markdown",
   "metadata": {},
   "source": [
    "# 3D wavelet and UMAP # "
   ]
  },
  {
   "cell_type": "code",
   "execution_count": 1,
   "metadata": {},
   "outputs": [],
   "source": [
    "import cv2\n",
    "import numpy as np\n",
    "import os\n",
    "import pywt\n",
    "from scipy import sparse\n",
    "\n",
    "\n",
    "def load_video_frames(folder_path):\n",
    "    frame_files = sorted([os.path.join(folder_path, f) for f in os.listdir(folder_path) if f.endswith(('.png', '.jpg'))])\n",
    "    video_frames = [cv2.imread(frame) for frame in frame_files if cv2.imread(frame) is not None]\n",
    "    if len(video_frames) == 0:\n",
    "        return None  # Handle the case where no frames are loaded\n",
    "    video_frames = np.stack(video_frames, axis=0)\n",
    "    return video_frames\n",
    "\n",
    "\n",
    "def perform_3d_wavelet_transform(video_frames):\n",
    "    # This is a placeholder example. You'll need to adjust it to perform an actual 3D transform.\n",
    "    # For demonstration, let's just do a simple 2D transform on the first frame.\n",
    "    coeffs2d = pywt.dwt2(video_frames[0], 'haar')\n",
    "    # coeffs2d is a tuple: (cA, (cH, cV, cD))\n",
    "    cA, (cH, cV, cD) = coeffs2d\n",
    "    # Flatten the coefficients and return\n",
    "    return np.concatenate([cA.flatten(), cH.flatten(), cV.flatten(), cD.flatten()])\n",
    "\n",
    "\n",
    "def prepare_feature_vector(coeffs):\n",
    "    # Assuming coeffs is already flattened, as from the example 3D transform function\n",
    "    # Convert to a sparse matrix (COO format)\n",
    "    sparse_vector = sparse.coo_matrix(coeffs)\n",
    "    return sparse_vector\n",
    "\n",
    "\n",
    "# Folder paths\n",
    "folders = [\n",
    "    \"/Volumes/TOSHIBA_EXT/Phenotype_features_collective/Data/ExtractedFrames/N2/1.1_4_n2_6b_Set0_Pos0_Ch3_14012018_125942\",\n",
    "    \"/Volumes/TOSHIBA_EXT/Phenotype_features_collective/Data/ExtractedFrames/CB4856/1.1_3_cb4856_oo_Set0_Pos0_Ch3_14012018_114743\",\n",
    "    \"/Volumes/TOSHIBA_EXT/Phenotype_features_collective/Data/ExtractedFrames/da609/1.1_1_da609_Set0_Pos0_Ch5_14012018_092702\"\n",
    "]\n"
   ]
  },
  {
   "cell_type": "code",
   "execution_count": 2,
   "metadata": {},
   "outputs": [
    {
     "name": "stderr",
     "output_type": "stream",
     "text": [
      "/Users/emmarusconi/miniconda3/envs/collectiveNematode/lib/python3.8/site-packages/umap/umap_.py:2433: UserWarning: n_neighbors is larger than the dataset size; truncating to X.shape[0] - 1\n",
      "  warn(\n",
      "/Users/emmarusconi/miniconda3/envs/collectiveNematode/lib/python3.8/site-packages/scipy/sparse/linalg/_eigen/arpack/arpack.py:1600: RuntimeWarning: k >= N for N * N square matrix. Attempting to use scipy.linalg.eigh instead.\n",
      "  warnings.warn(\"k >= N for N * N square matrix. \"\n"
     ]
    },
    {
     "ename": "TypeError",
     "evalue": "Cannot use scipy.linalg.eigh for sparse A with k >= N. Use scipy.linalg.eigh(A.toarray()) or reduce k.",
     "output_type": "error",
     "traceback": [
      "\u001b[0;31m---------------------------------------------------------------------------\u001b[0m",
      "\u001b[0;31mTypeError\u001b[0m                                 Traceback (most recent call last)",
      "\u001b[1;32m/Users/emmarusconi/src/collectiveNematodes/Code/Python/wavelet_umap.ipynb Cell 3\u001b[0m line \u001b[0;36m2\n\u001b[1;32m     <a href='vscode-notebook-cell:/Users/emmarusconi/src/collectiveNematodes/Code/Python/wavelet_umap.ipynb#W2sZmlsZQ%3D%3D?line=24'>25</a>\u001b[0m     sparse_feature_matrix \u001b[39m=\u001b[39m sparse\u001b[39m.\u001b[39mvstack(feature_vectors)\n\u001b[1;32m     <a href='vscode-notebook-cell:/Users/emmarusconi/src/collectiveNematodes/Code/Python/wavelet_umap.ipynb#W2sZmlsZQ%3D%3D?line=26'>27</a>\u001b[0m     \u001b[39m# Proceed with UMAP\u001b[39;00m\n\u001b[0;32m---> <a href='vscode-notebook-cell:/Users/emmarusconi/src/collectiveNematodes/Code/Python/wavelet_umap.ipynb#W2sZmlsZQ%3D%3D?line=27'>28</a>\u001b[0m     embedding \u001b[39m=\u001b[39m reducer\u001b[39m.\u001b[39;49mfit_transform(sparse_feature_matrix)\n\u001b[1;32m     <a href='vscode-notebook-cell:/Users/emmarusconi/src/collectiveNematodes/Code/Python/wavelet_umap.ipynb#W2sZmlsZQ%3D%3D?line=28'>29</a>\u001b[0m     \u001b[39m# Now, embedding contains the UMAP output which you can use as needed\u001b[39;00m\n\u001b[1;32m     <a href='vscode-notebook-cell:/Users/emmarusconi/src/collectiveNematodes/Code/Python/wavelet_umap.ipynb#W2sZmlsZQ%3D%3D?line=29'>30</a>\u001b[0m \u001b[39melse\u001b[39;00m:\n\u001b[1;32m     <a href='vscode-notebook-cell:/Users/emmarusconi/src/collectiveNematodes/Code/Python/wavelet_umap.ipynb#W2sZmlsZQ%3D%3D?line=30'>31</a>\u001b[0m     \u001b[39mprint\u001b[39m(\u001b[39m\"\u001b[39m\u001b[39mNo feature vectors were generated. Check the input video frames.\u001b[39m\u001b[39m\"\u001b[39m)\n",
      "File \u001b[0;32m~/miniconda3/envs/collectiveNematode/lib/python3.8/site-packages/umap/umap_.py:2887\u001b[0m, in \u001b[0;36mUMAP.fit_transform\u001b[0;34m(self, X, y, force_all_finite)\u001b[0m\n\u001b[1;32m   2851\u001b[0m \u001b[39mdef\u001b[39;00m \u001b[39mfit_transform\u001b[39m(\u001b[39mself\u001b[39m, X, y\u001b[39m=\u001b[39m\u001b[39mNone\u001b[39;00m, force_all_finite\u001b[39m=\u001b[39m\u001b[39mTrue\u001b[39;00m):\n\u001b[1;32m   2852\u001b[0m \u001b[39m    \u001b[39m\u001b[39m\"\"\"Fit X into an embedded space and return that transformed\u001b[39;00m\n\u001b[1;32m   2853\u001b[0m \u001b[39m    output.\u001b[39;00m\n\u001b[1;32m   2854\u001b[0m \n\u001b[0;32m   (...)\u001b[0m\n\u001b[1;32m   2885\u001b[0m \u001b[39m        Local radii of data points in the embedding (log-transformed).\u001b[39;00m\n\u001b[1;32m   2886\u001b[0m \u001b[39m    \"\"\"\u001b[39;00m\n\u001b[0;32m-> 2887\u001b[0m     \u001b[39mself\u001b[39;49m\u001b[39m.\u001b[39;49mfit(X, y, force_all_finite)\n\u001b[1;32m   2888\u001b[0m     \u001b[39mif\u001b[39;00m \u001b[39mself\u001b[39m\u001b[39m.\u001b[39mtransform_mode \u001b[39m==\u001b[39m \u001b[39m\"\u001b[39m\u001b[39membedding\u001b[39m\u001b[39m\"\u001b[39m:\n\u001b[1;32m   2889\u001b[0m         \u001b[39mif\u001b[39;00m \u001b[39mself\u001b[39m\u001b[39m.\u001b[39moutput_dens:\n",
      "File \u001b[0;32m~/miniconda3/envs/collectiveNematode/lib/python3.8/site-packages/umap/umap_.py:2780\u001b[0m, in \u001b[0;36mUMAP.fit\u001b[0;34m(self, X, y, force_all_finite)\u001b[0m\n\u001b[1;32m   2776\u001b[0m \u001b[39mif\u001b[39;00m \u001b[39mself\u001b[39m\u001b[39m.\u001b[39mtransform_mode \u001b[39m==\u001b[39m \u001b[39m\"\u001b[39m\u001b[39membedding\u001b[39m\u001b[39m\"\u001b[39m:\n\u001b[1;32m   2777\u001b[0m     epochs \u001b[39m=\u001b[39m (\n\u001b[1;32m   2778\u001b[0m         \u001b[39mself\u001b[39m\u001b[39m.\u001b[39mn_epochs_list \u001b[39mif\u001b[39;00m \u001b[39mself\u001b[39m\u001b[39m.\u001b[39mn_epochs_list \u001b[39mis\u001b[39;00m \u001b[39mnot\u001b[39;00m \u001b[39mNone\u001b[39;00m \u001b[39melse\u001b[39;00m \u001b[39mself\u001b[39m\u001b[39m.\u001b[39mn_epochs\n\u001b[1;32m   2779\u001b[0m     )\n\u001b[0;32m-> 2780\u001b[0m     \u001b[39mself\u001b[39m\u001b[39m.\u001b[39membedding_, aux_data \u001b[39m=\u001b[39m \u001b[39mself\u001b[39;49m\u001b[39m.\u001b[39;49m_fit_embed_data(\n\u001b[1;32m   2781\u001b[0m         \u001b[39mself\u001b[39;49m\u001b[39m.\u001b[39;49m_raw_data[index],\n\u001b[1;32m   2782\u001b[0m         epochs,\n\u001b[1;32m   2783\u001b[0m         init,\n\u001b[1;32m   2784\u001b[0m         random_state,  \u001b[39m# JH why raw data?\u001b[39;49;00m\n\u001b[1;32m   2785\u001b[0m     )\n\u001b[1;32m   2787\u001b[0m     \u001b[39mif\u001b[39;00m \u001b[39mself\u001b[39m\u001b[39m.\u001b[39mn_epochs_list \u001b[39mis\u001b[39;00m \u001b[39mnot\u001b[39;00m \u001b[39mNone\u001b[39;00m:\n\u001b[1;32m   2788\u001b[0m         \u001b[39mif\u001b[39;00m \u001b[39m\"\u001b[39m\u001b[39membedding_list\u001b[39m\u001b[39m\"\u001b[39m \u001b[39mnot\u001b[39;00m \u001b[39min\u001b[39;00m aux_data:\n",
      "File \u001b[0;32m~/miniconda3/envs/collectiveNematode/lib/python3.8/site-packages/umap/umap_.py:2826\u001b[0m, in \u001b[0;36mUMAP._fit_embed_data\u001b[0;34m(self, X, n_epochs, init, random_state)\u001b[0m\n\u001b[1;32m   2822\u001b[0m \u001b[39mdef\u001b[39;00m \u001b[39m_fit_embed_data\u001b[39m(\u001b[39mself\u001b[39m, X, n_epochs, init, random_state):\n\u001b[1;32m   2823\u001b[0m \u001b[39m    \u001b[39m\u001b[39m\"\"\"A method wrapper for simplicial_set_embedding that can be\u001b[39;00m\n\u001b[1;32m   2824\u001b[0m \u001b[39m    replaced by subclasses.\u001b[39;00m\n\u001b[1;32m   2825\u001b[0m \u001b[39m    \"\"\"\u001b[39;00m\n\u001b[0;32m-> 2826\u001b[0m     \u001b[39mreturn\u001b[39;00m simplicial_set_embedding(\n\u001b[1;32m   2827\u001b[0m         X,\n\u001b[1;32m   2828\u001b[0m         \u001b[39mself\u001b[39;49m\u001b[39m.\u001b[39;49mgraph_,\n\u001b[1;32m   2829\u001b[0m         \u001b[39mself\u001b[39;49m\u001b[39m.\u001b[39;49mn_components,\n\u001b[1;32m   2830\u001b[0m         \u001b[39mself\u001b[39;49m\u001b[39m.\u001b[39;49m_initial_alpha,\n\u001b[1;32m   2831\u001b[0m         \u001b[39mself\u001b[39;49m\u001b[39m.\u001b[39;49m_a,\n\u001b[1;32m   2832\u001b[0m         \u001b[39mself\u001b[39;49m\u001b[39m.\u001b[39;49m_b,\n\u001b[1;32m   2833\u001b[0m         \u001b[39mself\u001b[39;49m\u001b[39m.\u001b[39;49mrepulsion_strength,\n\u001b[1;32m   2834\u001b[0m         \u001b[39mself\u001b[39;49m\u001b[39m.\u001b[39;49mnegative_sample_rate,\n\u001b[1;32m   2835\u001b[0m         n_epochs,\n\u001b[1;32m   2836\u001b[0m         init,\n\u001b[1;32m   2837\u001b[0m         random_state,\n\u001b[1;32m   2838\u001b[0m         \u001b[39mself\u001b[39;49m\u001b[39m.\u001b[39;49m_input_distance_func,\n\u001b[1;32m   2839\u001b[0m         \u001b[39mself\u001b[39;49m\u001b[39m.\u001b[39;49m_metric_kwds,\n\u001b[1;32m   2840\u001b[0m         \u001b[39mself\u001b[39;49m\u001b[39m.\u001b[39;49mdensmap,\n\u001b[1;32m   2841\u001b[0m         \u001b[39mself\u001b[39;49m\u001b[39m.\u001b[39;49m_densmap_kwds,\n\u001b[1;32m   2842\u001b[0m         \u001b[39mself\u001b[39;49m\u001b[39m.\u001b[39;49moutput_dens,\n\u001b[1;32m   2843\u001b[0m         \u001b[39mself\u001b[39;49m\u001b[39m.\u001b[39;49m_output_distance_func,\n\u001b[1;32m   2844\u001b[0m         \u001b[39mself\u001b[39;49m\u001b[39m.\u001b[39;49m_output_metric_kwds,\n\u001b[1;32m   2845\u001b[0m         \u001b[39mself\u001b[39;49m\u001b[39m.\u001b[39;49moutput_metric \u001b[39min\u001b[39;49;00m (\u001b[39m\"\u001b[39;49m\u001b[39meuclidean\u001b[39;49m\u001b[39m\"\u001b[39;49m, \u001b[39m\"\u001b[39;49m\u001b[39ml2\u001b[39;49m\u001b[39m\"\u001b[39;49m),\n\u001b[1;32m   2846\u001b[0m         \u001b[39mself\u001b[39;49m\u001b[39m.\u001b[39;49mrandom_state \u001b[39mis\u001b[39;49;00m \u001b[39mNone\u001b[39;49;00m,\n\u001b[1;32m   2847\u001b[0m         \u001b[39mself\u001b[39;49m\u001b[39m.\u001b[39;49mverbose,\n\u001b[1;32m   2848\u001b[0m         tqdm_kwds\u001b[39m=\u001b[39;49m\u001b[39mself\u001b[39;49m\u001b[39m.\u001b[39;49mtqdm_kwds,\n\u001b[1;32m   2849\u001b[0m     )\n",
      "File \u001b[0;32m~/miniconda3/envs/collectiveNematode/lib/python3.8/site-packages/umap/umap_.py:1106\u001b[0m, in \u001b[0;36msimplicial_set_embedding\u001b[0;34m(data, graph, n_components, initial_alpha, a, b, gamma, negative_sample_rate, n_epochs, init, random_state, metric, metric_kwds, densmap, densmap_kwds, output_dens, output_metric, output_metric_kwds, euclidean_output, parallel, verbose, tqdm_kwds)\u001b[0m\n\u001b[1;32m   1102\u001b[0m     embedding \u001b[39m=\u001b[39m noisy_scale_coords(\n\u001b[1;32m   1103\u001b[0m         embedding, random_state, max_coord\u001b[39m=\u001b[39m\u001b[39m10\u001b[39m, noise\u001b[39m=\u001b[39m\u001b[39m0.0001\u001b[39m\n\u001b[1;32m   1104\u001b[0m     )\n\u001b[1;32m   1105\u001b[0m \u001b[39melif\u001b[39;00m \u001b[39misinstance\u001b[39m(init, \u001b[39mstr\u001b[39m) \u001b[39mand\u001b[39;00m init \u001b[39m==\u001b[39m \u001b[39m\"\u001b[39m\u001b[39mspectral\u001b[39m\u001b[39m\"\u001b[39m:\n\u001b[0;32m-> 1106\u001b[0m     embedding \u001b[39m=\u001b[39m spectral_layout(\n\u001b[1;32m   1107\u001b[0m         data,\n\u001b[1;32m   1108\u001b[0m         graph,\n\u001b[1;32m   1109\u001b[0m         n_components,\n\u001b[1;32m   1110\u001b[0m         random_state,\n\u001b[1;32m   1111\u001b[0m         metric\u001b[39m=\u001b[39;49mmetric,\n\u001b[1;32m   1112\u001b[0m         metric_kwds\u001b[39m=\u001b[39;49mmetric_kwds,\n\u001b[1;32m   1113\u001b[0m     )\n\u001b[1;32m   1114\u001b[0m     \u001b[39m# We add a little noise to avoid local minima for optimization to come\u001b[39;00m\n\u001b[1;32m   1115\u001b[0m     embedding \u001b[39m=\u001b[39m noisy_scale_coords(\n\u001b[1;32m   1116\u001b[0m         embedding, random_state, max_coord\u001b[39m=\u001b[39m\u001b[39m10\u001b[39m, noise\u001b[39m=\u001b[39m\u001b[39m0.0001\u001b[39m\n\u001b[1;32m   1117\u001b[0m     )\n",
      "File \u001b[0;32m~/miniconda3/envs/collectiveNematode/lib/python3.8/site-packages/umap/spectral.py:304\u001b[0m, in \u001b[0;36mspectral_layout\u001b[0;34m(data, graph, dim, random_state, metric, metric_kwds, tol, maxiter)\u001b[0m\n\u001b[1;32m    263\u001b[0m \u001b[39mdef\u001b[39;00m \u001b[39mspectral_layout\u001b[39m(\n\u001b[1;32m    264\u001b[0m     data,\n\u001b[1;32m    265\u001b[0m     graph,\n\u001b[0;32m   (...)\u001b[0m\n\u001b[1;32m    271\u001b[0m     maxiter\u001b[39m=\u001b[39m\u001b[39m0\u001b[39m\n\u001b[1;32m    272\u001b[0m ):\n\u001b[1;32m    273\u001b[0m \u001b[39m    \u001b[39m\u001b[39m\"\"\"\u001b[39;00m\n\u001b[1;32m    274\u001b[0m \u001b[39m    Given a graph compute the spectral embedding of the graph. This is\u001b[39;00m\n\u001b[1;32m    275\u001b[0m \u001b[39m    simply the eigenvectors of the laplacian of the graph. Here we use the\u001b[39;00m\n\u001b[0;32m   (...)\u001b[0m\n\u001b[1;32m    302\u001b[0m \u001b[39m        The spectral embedding of the graph.\u001b[39;00m\n\u001b[1;32m    303\u001b[0m \u001b[39m    \"\"\"\u001b[39;00m\n\u001b[0;32m--> 304\u001b[0m     \u001b[39mreturn\u001b[39;00m _spectral_layout(\n\u001b[1;32m    305\u001b[0m         data\u001b[39m=\u001b[39;49mdata,\n\u001b[1;32m    306\u001b[0m         graph\u001b[39m=\u001b[39;49mgraph,\n\u001b[1;32m    307\u001b[0m         dim\u001b[39m=\u001b[39;49mdim,\n\u001b[1;32m    308\u001b[0m         random_state\u001b[39m=\u001b[39;49mrandom_state,\n\u001b[1;32m    309\u001b[0m         metric\u001b[39m=\u001b[39;49mmetric,\n\u001b[1;32m    310\u001b[0m         metric_kwds\u001b[39m=\u001b[39;49mmetric_kwds,\n\u001b[1;32m    311\u001b[0m         init\u001b[39m=\u001b[39;49m\u001b[39m\"\u001b[39;49m\u001b[39mrandom\u001b[39;49m\u001b[39m\"\u001b[39;49m,\n\u001b[1;32m    312\u001b[0m         tol\u001b[39m=\u001b[39;49mtol,\n\u001b[1;32m    313\u001b[0m         maxiter\u001b[39m=\u001b[39;49mmaxiter\n\u001b[1;32m    314\u001b[0m     )\n",
      "File \u001b[0;32m~/miniconda3/envs/collectiveNematode/lib/python3.8/site-packages/umap/spectral.py:521\u001b[0m, in \u001b[0;36m_spectral_layout\u001b[0;34m(data, graph, dim, random_state, metric, metric_kwds, init, method, tol, maxiter)\u001b[0m\n\u001b[1;32m    518\u001b[0m X[:, \u001b[39m0\u001b[39m] \u001b[39m=\u001b[39m sqrt_deg \u001b[39m/\u001b[39m np\u001b[39m.\u001b[39mlinalg\u001b[39m.\u001b[39mnorm(sqrt_deg)\n\u001b[1;32m    520\u001b[0m \u001b[39mif\u001b[39;00m method \u001b[39m==\u001b[39m \u001b[39m\"\u001b[39m\u001b[39meigsh\u001b[39m\u001b[39m\"\u001b[39m:\n\u001b[0;32m--> 521\u001b[0m     eigenvalues, eigenvectors \u001b[39m=\u001b[39m scipy\u001b[39m.\u001b[39;49msparse\u001b[39m.\u001b[39;49mlinalg\u001b[39m.\u001b[39;49meigsh(\n\u001b[1;32m    522\u001b[0m         L,\n\u001b[1;32m    523\u001b[0m         k,\n\u001b[1;32m    524\u001b[0m         which\u001b[39m=\u001b[39;49m\u001b[39m\"\u001b[39;49m\u001b[39mSM\u001b[39;49m\u001b[39m\"\u001b[39;49m,\n\u001b[1;32m    525\u001b[0m         ncv\u001b[39m=\u001b[39;49mnum_lanczos_vectors,\n\u001b[1;32m    526\u001b[0m         tol\u001b[39m=\u001b[39;49mtol \u001b[39mor\u001b[39;49;00m \u001b[39m1e-4\u001b[39;49m,\n\u001b[1;32m    527\u001b[0m         v0\u001b[39m=\u001b[39;49mnp\u001b[39m.\u001b[39;49mones(L\u001b[39m.\u001b[39;49mshape[\u001b[39m0\u001b[39;49m]),\n\u001b[1;32m    528\u001b[0m         maxiter\u001b[39m=\u001b[39;49mmaxiter \u001b[39mor\u001b[39;49;00m graph\u001b[39m.\u001b[39;49mshape[\u001b[39m0\u001b[39;49m] \u001b[39m*\u001b[39;49m \u001b[39m5\u001b[39;49m,\n\u001b[1;32m    529\u001b[0m     )\n\u001b[1;32m    530\u001b[0m \u001b[39melif\u001b[39;00m method \u001b[39m==\u001b[39m \u001b[39m\"\u001b[39m\u001b[39mlobpcg\u001b[39m\u001b[39m\"\u001b[39m:\n\u001b[1;32m    531\u001b[0m     \u001b[39mwith\u001b[39;00m warnings\u001b[39m.\u001b[39mcatch_warnings():\n",
      "File \u001b[0;32m~/miniconda3/envs/collectiveNematode/lib/python3.8/site-packages/scipy/sparse/linalg/_eigen/arpack/arpack.py:1605\u001b[0m, in \u001b[0;36meigsh\u001b[0;34m(A, k, M, sigma, which, v0, ncv, maxiter, tol, return_eigenvectors, Minv, OPinv, mode)\u001b[0m\n\u001b[1;32m   1600\u001b[0m warnings\u001b[39m.\u001b[39mwarn(\u001b[39m\"\u001b[39m\u001b[39mk >= N for N * N square matrix. \u001b[39m\u001b[39m\"\u001b[39m\n\u001b[1;32m   1601\u001b[0m               \u001b[39m\"\u001b[39m\u001b[39mAttempting to use scipy.linalg.eigh instead.\u001b[39m\u001b[39m\"\u001b[39m,\n\u001b[1;32m   1602\u001b[0m               \u001b[39mRuntimeWarning\u001b[39;00m)\n\u001b[1;32m   1604\u001b[0m \u001b[39mif\u001b[39;00m issparse(A):\n\u001b[0;32m-> 1605\u001b[0m     \u001b[39mraise\u001b[39;00m \u001b[39mTypeError\u001b[39;00m(\u001b[39m\"\u001b[39m\u001b[39mCannot use scipy.linalg.eigh for sparse A with \u001b[39m\u001b[39m\"\u001b[39m\n\u001b[1;32m   1606\u001b[0m                     \u001b[39m\"\u001b[39m\u001b[39mk >= N. Use scipy.linalg.eigh(A.toarray()) or\u001b[39m\u001b[39m\"\u001b[39m\n\u001b[1;32m   1607\u001b[0m                     \u001b[39m\"\u001b[39m\u001b[39m reduce k.\u001b[39m\u001b[39m\"\u001b[39m)\n\u001b[1;32m   1608\u001b[0m \u001b[39mif\u001b[39;00m \u001b[39misinstance\u001b[39m(A, LinearOperator):\n\u001b[1;32m   1609\u001b[0m     \u001b[39mraise\u001b[39;00m \u001b[39mTypeError\u001b[39;00m(\u001b[39m\"\u001b[39m\u001b[39mCannot use scipy.linalg.eigh for LinearOperator \u001b[39m\u001b[39m\"\u001b[39m\n\u001b[1;32m   1610\u001b[0m                     \u001b[39m\"\u001b[39m\u001b[39mA with k >= N.\u001b[39m\u001b[39m\"\u001b[39m)\n",
      "\u001b[0;31mTypeError\u001b[0m: Cannot use scipy.linalg.eigh for sparse A with k >= N. Use scipy.linalg.eigh(A.toarray()) or reduce k."
     ]
    }
   ],
   "source": [
    "import umap\n",
    "\n",
    "# Load video frames from each folder\n",
    "videos = [load_video_frames(folder) for folder in folders]\n",
    "\n",
    "# Initialize an empty list to hold the feature vectors\n",
    "feature_vectors = []\n",
    "\n",
    "# Ensure the UMAP reducer is defined before you use it\n",
    "reducer = umap.UMAP(n_neighbors=15, min_dist=0.1, n_components=2, metric='euclidean', spread=1.0)\n",
    "\n",
    "# Process each video through the pipeline\n",
    "for video in videos:\n",
    "    if video is not None:  # Check that video frames were successfully loaded\n",
    "        # Apply 3D wavelet transform\n",
    "        coeffs = perform_3d_wavelet_transform(video)\n",
    "        # Prepare the feature vector (now directly returns a sparse matrix)\n",
    "        feature_vector = prepare_feature_vector(coeffs)\n",
    "        # Append the feature vector (sparse matrix) to the list for UMAP processing\n",
    "        feature_vectors.append(feature_vector)\n",
    "\n",
    "# Check if there are any feature vectors to process\n",
    "if feature_vectors:\n",
    "    # Convert list of sparse matrices to a single sparse matrix\n",
    "    sparse_feature_matrix = sparse.vstack(feature_vectors)\n",
    "\n",
    "    # Proceed with UMAP\n",
    "    embedding = reducer.fit_transform(sparse_feature_matrix)\n",
    "    # Now, embedding contains the UMAP output which you can use as needed\n",
    "else:\n",
    "    print(\"No feature vectors were generated. Check the input video frames.\")\n"
   ]
  },
  {
   "cell_type": "code",
   "execution_count": null,
   "metadata": {},
   "outputs": [],
   "source": []
  }
 ],
 "metadata": {
  "kernelspec": {
   "display_name": "collectiveNematode",
   "language": "python",
   "name": "python3"
  },
  "language_info": {
   "codemirror_mode": {
    "name": "ipython",
    "version": 3
   },
   "file_extension": ".py",
   "mimetype": "text/x-python",
   "name": "python",
   "nbconvert_exporter": "python",
   "pygments_lexer": "ipython3",
   "version": "3.8.18"
  }
 },
 "nbformat": 4,
 "nbformat_minor": 2
}
