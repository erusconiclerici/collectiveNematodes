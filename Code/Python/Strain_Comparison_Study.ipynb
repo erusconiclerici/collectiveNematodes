{
 "cells": [
  {
   "cell_type": "markdown",
   "metadata": {},
   "source": [
    "The provided script is designed for the analysis of collective behavior in nematodes. \n",
    "\n",
    "Here we conduct the analysis comparing all the strains belonging to the divergent data set. "
   ]
  },
  {
   "cell_type": "markdown",
   "metadata": {},
   "source": [
    "# Load Packages #"
   ]
  },
  {
   "cell_type": "code",
   "execution_count": 3,
   "metadata": {},
   "outputs": [],
   "source": [
    "import os\n",
    "from PIL import Image\n",
    "import matplotlib.pyplot as plt\n",
    "import numpy as np\n",
    "from skimage.measure import label, regionprops\n",
    "from skimage.draw import circle_perimeter\n",
    "from math import sqrt\n",
    "from skimage.io import imread\n",
    "from skimage.transform import resize\n",
    "from skimage.filters import threshold_otsu\n",
    "from tabulate import tabulate\n",
    "from scipy.spatial.distance import pdist, squareform\n",
    "from scipy.cluster.hierarchy import linkage, dendrogram, fcluster\n",
    "import matplotlib.image as mpimg\n",
    "from matplotlib import rcParams\n",
    "import h5py    # for reading HDF5 files \n",
    "import cv2     # for image conversion\n",
    "import re    # use it to sort but not sure what it is!\n",
    "from scipy.stats import zscore\n",
    "from skimage import draw, measure\n",
    "import pywt\n",
    "from scipy.spatial.distance import cdist\n",
    "import seaborn as sns\n",
    "from scipy.stats import multivariate_normal\n",
    "import matplotlib.colors as colors\n",
    "from sklearn.cluster import KMeans\n",
    "import numpy as np\n",
    "import matplotlib.pyplot as plt\n",
    "import cv2\n",
    "from skimage.filters import threshold_otsu\n",
    "from skimage import color\n",
    "import glob"
   ]
  },
  {
   "cell_type": "markdown",
   "metadata": {},
   "source": [
    "# Data extraction #"
   ]
  },
  {
   "cell_type": "markdown",
   "metadata": {},
   "source": [
    "### Data set infromation overview: ###"
   ]
  },
  {
   "cell_type": "markdown",
   "metadata": {},
   "source": [
    "1. Divergent Sets:\n",
    "\n",
    "    Consists of 12 genotypically distinct strains. These are strains that are further apart on the phenotypic tree. \n",
    "    Ideal for determining broad-sense heritability with repeated measurements of specific phenotypes.\n",
    "    This allows us to look into the relationship between the behavior and the genetic makeup. \n",
    "\n",
    "2. Mapping Sets:\n",
    "\n",
    "    Comprises 48 strains suitable for collecting phenotype data for broad diversity or genome-wide association studies.\n",
    "    Using multiple strain sets can enhance the statistical strength in genome-wide association studies."
   ]
  },
  {
   "cell_type": "markdown",
   "metadata": {},
   "source": [
    "### Workflow: Handling and processing image data stored in HDF5 files ###"
   ]
  },
  {
   "cell_type": "markdown",
   "metadata": {},
   "source": [
    "In hdf5_frames_extractor: \n",
    "\n",
    "1. The script sets the paths to your HDF5 files and the directory for extracted frames.\n",
    "\n",
    "2. It ensures the output directory exists for each strain and each experiment.\n",
    "\n",
    "3. It retrieves the paths of HDF5 files for each strain and creates corresponding output directories.\n",
    "\n",
    "4. It extracts frames from HDF5 files and saves them in the respective experiment subfolders.\n",
    "\n",
    "Strain_comparison_study: \n",
    "\n",
    "5. Load Images: Use the load_images_from_folder function to load frames from each experiment.\n",
    "\n",
    "6. It creates a dictionary labels_strain_list mapping experiment labels to the loaded images.\n",
    "\n",
    "7. Feature Extraction: Write functions to extract the necessary features from each frame.\n",
    "\n",
    "8. Aggregate and Analyze: Aggregate the features per experiment, and then perform statistical analyses and visualizations.\n",
    "\n",
    "9. Comparison: Compare these features across different strains."
   ]
  },
  {
   "cell_type": "markdown",
   "metadata": {},
   "source": [
    "### Functions: ###"
   ]
  },
  {
   "cell_type": "markdown",
   "metadata": {},
   "source": [
    "extract_experiment_name: Extracts the experiment name from a given file or folder path.\n",
    "\n",
    "load_images_from_folder: Loads all images in the specified folder and returns a list of images.\n",
    "\n",
    "labels_strain_list: A dictionary that maps each experiment's label to its corresponding images. This is created by iterating through each strain's folder and then through each experiment's subfolder within the strain."
   ]
  },
  {
   "cell_type": "code",
   "execution_count": 8,
   "metadata": {},
   "outputs": [
    {
     "ename": "error",
     "evalue": "OpenCV(4.8.1) :-1: error: (-5:Bad argument) in function 'cvtColor'\n> Overload resolution failed:\n>  - src is not a numpy array, neither a scalar\n>  - Expected Ptr<cv::UMat> for argument 'src'\n",
     "output_type": "error",
     "traceback": [
      "\u001b[0;31m---------------------------------------------------------------------------\u001b[0m",
      "\u001b[0;31merror\u001b[0m                                     Traceback (most recent call last)",
      "\u001b[1;32m/Users/emmarusconi/src/collectiveNematodes/Code/Python/Strain_Comparison_Study.ipynb Cell 11\u001b[0m line \u001b[0;36m6\n\u001b[1;32m     <a href='vscode-notebook-cell:/Users/emmarusconi/src/collectiveNematodes/Code/Python/Strain_Comparison_Study.ipynb#X22sZmlsZQ%3D%3D?line=60'>61</a>\u001b[0m selected_frame_paths \u001b[39m=\u001b[39m select_frames(experiment_path, \u001b[39m10\u001b[39m)  \u001b[39m# Define 'n' as needed\u001b[39;00m\n\u001b[1;32m     <a href='vscode-notebook-cell:/Users/emmarusconi/src/collectiveNematodes/Code/Python/Strain_Comparison_Study.ipynb#X22sZmlsZQ%3D%3D?line=61'>62</a>\u001b[0m \u001b[39mfor\u001b[39;00m frame_path \u001b[39min\u001b[39;00m selected_frame_paths:\n\u001b[0;32m---> <a href='vscode-notebook-cell:/Users/emmarusconi/src/collectiveNematodes/Code/Python/Strain_Comparison_Study.ipynb#X22sZmlsZQ%3D%3D?line=62'>63</a>\u001b[0m     features \u001b[39m=\u001b[39m calculate_features(frame_path)\n\u001b[1;32m     <a href='vscode-notebook-cell:/Users/emmarusconi/src/collectiveNematodes/Code/Python/Strain_Comparison_Study.ipynb#X22sZmlsZQ%3D%3D?line=63'>64</a>\u001b[0m     \u001b[39m# Aggregate or analyze features as needed\u001b[39;00m\n",
      "\u001b[1;32m/Users/emmarusconi/src/collectiveNematodes/Code/Python/Strain_Comparison_Study.ipynb Cell 11\u001b[0m line \u001b[0;36m3\n\u001b[1;32m     <a href='vscode-notebook-cell:/Users/emmarusconi/src/collectiveNematodes/Code/Python/Strain_Comparison_Study.ipynb#X22sZmlsZQ%3D%3D?line=35'>36</a>\u001b[0m \u001b[39mdef\u001b[39;00m \u001b[39mcalculate_features\u001b[39m(image, threshold_value\u001b[39m=\u001b[39m\u001b[39m200\u001b[39m):\n\u001b[1;32m     <a href='vscode-notebook-cell:/Users/emmarusconi/src/collectiveNematodes/Code/Python/Strain_Comparison_Study.ipynb#X22sZmlsZQ%3D%3D?line=36'>37</a>\u001b[0m \u001b[39m    \u001b[39m\u001b[39m\"\"\" Calculate the required features for a given image. \"\"\"\u001b[39;00m\n\u001b[0;32m---> <a href='vscode-notebook-cell:/Users/emmarusconi/src/collectiveNematodes/Code/Python/Strain_Comparison_Study.ipynb#X22sZmlsZQ%3D%3D?line=37'>38</a>\u001b[0m     segmented \u001b[39m=\u001b[39m segment_lighter_areas(image, threshold_value)\n\u001b[1;32m     <a href='vscode-notebook-cell:/Users/emmarusconi/src/collectiveNematodes/Code/Python/Strain_Comparison_Study.ipynb#X22sZmlsZQ%3D%3D?line=38'>39</a>\u001b[0m     labeled_areas \u001b[39m=\u001b[39m label(segmented)\n\u001b[1;32m     <a href='vscode-notebook-cell:/Users/emmarusconi/src/collectiveNematodes/Code/Python/Strain_Comparison_Study.ipynb#X22sZmlsZQ%3D%3D?line=39'>40</a>\u001b[0m     properties \u001b[39m=\u001b[39m regionprops(labeled_areas)\n",
      "\u001b[1;32m/Users/emmarusconi/src/collectiveNematodes/Code/Python/Strain_Comparison_Study.ipynb Cell 11\u001b[0m line \u001b[0;36m3\n\u001b[1;32m     <a href='vscode-notebook-cell:/Users/emmarusconi/src/collectiveNematodes/Code/Python/Strain_Comparison_Study.ipynb#X22sZmlsZQ%3D%3D?line=29'>30</a>\u001b[0m \u001b[39mdef\u001b[39;00m \u001b[39msegment_lighter_areas\u001b[39m(image, threshold_value):\n\u001b[1;32m     <a href='vscode-notebook-cell:/Users/emmarusconi/src/collectiveNematodes/Code/Python/Strain_Comparison_Study.ipynb#X22sZmlsZQ%3D%3D?line=30'>31</a>\u001b[0m \u001b[39m    \u001b[39m\u001b[39m\"\"\" Segment lighter areas in the image based on a threshold. \"\"\"\u001b[39;00m\n\u001b[0;32m---> <a href='vscode-notebook-cell:/Users/emmarusconi/src/collectiveNematodes/Code/Python/Strain_Comparison_Study.ipynb#X22sZmlsZQ%3D%3D?line=31'>32</a>\u001b[0m     gray_image \u001b[39m=\u001b[39m cv2\u001b[39m.\u001b[39;49mcvtColor(image, cv2\u001b[39m.\u001b[39;49mCOLOR_BGR2GRAY)\n\u001b[1;32m     <a href='vscode-notebook-cell:/Users/emmarusconi/src/collectiveNematodes/Code/Python/Strain_Comparison_Study.ipynb#X22sZmlsZQ%3D%3D?line=32'>33</a>\u001b[0m     _, thresh \u001b[39m=\u001b[39m cv2\u001b[39m.\u001b[39mthreshold(gray_image, threshold_value, \u001b[39m255\u001b[39m, cv2\u001b[39m.\u001b[39mTHRESH_BINARY)\n\u001b[1;32m     <a href='vscode-notebook-cell:/Users/emmarusconi/src/collectiveNematodes/Code/Python/Strain_Comparison_Study.ipynb#X22sZmlsZQ%3D%3D?line=33'>34</a>\u001b[0m     \u001b[39mreturn\u001b[39;00m thresh\n",
      "\u001b[0;31merror\u001b[0m: OpenCV(4.8.1) :-1: error: (-5:Bad argument) in function 'cvtColor'\n> Overload resolution failed:\n>  - src is not a numpy array, neither a scalar\n>  - Expected Ptr<cv::UMat> for argument 'src'\n"
     ]
    }
   ],
   "source": [
    "def select_frames(folder, num_frames):\n",
    "    image_files = sorted(glob.glob(os.path.join(folder, '*.jpg')))\n",
    "    total_frames = len(image_files)\n",
    "\n",
    "    if total_frames <= num_frames:\n",
    "        return image_files  # Return all if fewer than num_frames\n",
    "    else:\n",
    "        step = total_frames // (num_frames - 1)\n",
    "        selected_frames = [image_files[i] for i in range(0, total_frames, step)]\n",
    "        selected_frames[-1] = image_files[-1]  # Ensure last frame is included\n",
    "        return selected_frames\n",
    "\n",
    "def extract_experiment_name(file_path):\n",
    "    # Assuming the experiment's name is part of the file's name\n",
    "    base_name = os.path.basename(file_path)\n",
    "    name_parts = base_name.split('_')\n",
    "    experiment_name = '_'.join(name_parts[:-1])  # Exclude the extension and any other parts\n",
    "    return experiment_name\n",
    "\n",
    "def load_images_from_folder(folder):\n",
    "    all_images = []\n",
    "    image_files = [f for f in os.listdir(folder) if f.endswith(\".jpg\")]\n",
    "    for filename in image_files:\n",
    "        filepath = os.path.join(folder, filename)\n",
    "        image = cv2.imread(filepath, cv2.IMREAD_GRAYSCALE)\n",
    "        if image is not None:\n",
    "            all_images.append(image)\n",
    "    return all_images\n",
    "\n",
    "def segment_lighter_areas(image, threshold_value):\n",
    "    \"\"\" Segment lighter areas in the image based on a threshold. \"\"\"\n",
    "    gray_image = cv2.cvtColor(image, cv2.COLOR_BGR2GRAY)\n",
    "    _, thresh = cv2.threshold(gray_image, threshold_value, 255, cv2.THRESH_BINARY)\n",
    "    return thresh\n",
    "\n",
    "def calculate_features(image, threshold_value=200):\n",
    "    \"\"\" Calculate the required features for a given image. \"\"\"\n",
    "    segmented = segment_lighter_areas(image, threshold_value)\n",
    "    labeled_areas = label(segmented)\n",
    "    properties = regionprops(labeled_areas)\n",
    "\n",
    "    image_center = np.array(image.shape[:2][::-1]) / 2\n",
    "\n",
    "    features = []\n",
    "    for prop in properties:\n",
    "        center_of_mass = prop.centroid\n",
    "        distance_from_center = np.linalg.norm(np.array(center_of_mass) - image_center)\n",
    "        area = prop.area\n",
    "        features.append({'center_of_mass': center_of_mass, 'distance_from_center': distance_from_center, 'area': area})\n",
    "\n",
    "    return features"
   ]
  },
  {
   "cell_type": "markdown",
   "metadata": {},
   "source": [
    "### Image Loading ###"
   ]
  },
  {
   "cell_type": "code",
   "execution_count": null,
   "metadata": {},
   "outputs": [],
   "source": [
    "# Set the root path where the extracted images are stored\n",
    "output_root_path = '/Volumes/TOSHIBA_EXT/Phenotype_features_collective/ExtractedFrames'\n",
    "\n",
    "# Create a dictionary to map experiment labels to images\n",
    "labels_strain_list = {}\n",
    "strain_folders = [d for d in os.listdir(output_root_path) if os.path.isdir(os.path.join(output_root_path, d))]\n",
    "\n",
    "for strain in strain_folders:\n",
    "    experiment_folders = [os.path.join(output_root_path, strain, e) for e in os.listdir(os.path.join(output_root_path, strain)) if os.path.isdir(os.path.join(output_root_path, strain, e))]\n",
    "    for folder in experiment_folders:\n",
    "        images = load_images_from_folder(folder)\n",
    "        experiment_label = extract_experiment_name(folder)\n",
    "        labels_strain_list[experiment_label] = images\n",
    "\n",
    "# Now 'labels_strain_list' contains the mapping of experiment labels to the loaded images\n",
    "        \n",
    "root_path = '/Volumes/TOSHIBA_EXT/Phenotype_features_collective/Data/ExtractedFrames'\n",
    "\n",
    "for strain_folder in os.listdir(root_path):\n",
    "    strain_path = os.path.join(root_path, strain_folder)\n",
    "    if os.path.isdir(strain_path):\n",
    "        for experiment_folder in os.listdir(strain_path):\n",
    "            experiment_path = os.path.join(strain_path, experiment_folder)\n",
    "            if os.path.isdir(experiment_path):\n",
    "                selected_frame_paths = select_frames(experiment_path, 10)  # Define 'n' as needed\n",
    "                for frame_path in selected_frame_paths:\n",
    "                    features = calculate_features(frame_path)\n",
    "                    # Aggregate or analyze features as needed"
   ]
  },
  {
   "cell_type": "markdown",
   "metadata": {},
   "source": [
    "# Feature Extraction #"
   ]
  },
  {
   "cell_type": "code",
   "execution_count": null,
   "metadata": {},
   "outputs": [],
   "source": []
  },
  {
   "cell_type": "markdown",
   "metadata": {},
   "source": []
  }
 ],
 "metadata": {
  "kernelspec": {
   "display_name": "collectiveNematode",
   "language": "python",
   "name": "python3"
  },
  "language_info": {
   "codemirror_mode": {
    "name": "ipython",
    "version": 3
   },
   "file_extension": ".py",
   "mimetype": "text/x-python",
   "name": "python",
   "nbconvert_exporter": "python",
   "pygments_lexer": "ipython3",
   "version": "3.8.18"
  }
 },
 "nbformat": 4,
 "nbformat_minor": 2
}
